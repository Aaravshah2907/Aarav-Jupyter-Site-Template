{
 "cells": [
  {
   "cell_type": "markdown",
   "metadata": {},
   "source": [
    "# This is SHOWCASE.ipynb"
   ]
  },
  {
   "cell_type": "code",
   "execution_count": null,
   "metadata": {},
   "outputs": [],
   "source": [
    "import matplotlib.pyplot as plt\n",
    "import numpy as np\n",
    "\n",
    "print(\"This is a simple script to plot a sine wave.\")"
   ]
  },
  {
   "cell_type": "markdown",
   "metadata": {},
   "source": [
    "## Voltage Curve\n",
    "\n",
    "some experiments."
   ]
  },
  {
   "cell_type": "code",
   "execution_count": null,
   "metadata": {},
   "outputs": [],
   "source": [
    "t = np.arange(0.0, 2.0, 0.01)\n",
    "s = 1 + np.sin(2*np.pi*t)\n",
    "plt.plot(t, s)\n",
    "\n",
    "plt.xlabel('time (s)')\n",
    "plt.ylabel('voltage (mV)')\n",
    "plt.title('About as simple as it gets, folks')\n",
    "plt.grid(True)\n",
    "plt.show()\n"
   ]
  },
  {
   "cell_type": "markdown",
   "metadata": {},
   "source": [
    "<div style=\"text-align: center; margin-left: 45%;\">\n",
    "    <a href=\"https://github.com\" target=\"_blank\" style=\"text-decoration: none;\">\n",
    "        <button style=\"background-color: #0366d6; color: white; border: none; padding: 10px 20px; font-size: 16px; display: flex; align-items: center; cursor: pointer;\">\n",
    "            <img src=\"contents/github-logo.svg\" alt=\"GitHub Logo\" style=\"width: 20px; height: 20px; margin-right: 10px;\">\n",
    "            GITHUB CODE\n",
    "        </button>\n",
    "    </a>\n",
    "</div>"
   ]
  },
  {
   "cell_type": "markdown",
   "metadata": {},
   "source": [
    "<a href=\"contents/sample.mp4\" target=\"_blank\">Click here to view the video from anchor tag.</a>\n",
    "# Sample Video\n",
    "<video width=\"1280\" height=\"720\" controls>\n",
    "    <source src=\"contents/sample.mp4\" type=\"video/mp4\">\n",
    "    Your browser does not support the video tag.\n",
    "</video>"
   ]
  }
 ],
 "metadata": {
  "interpreter": {
   "hash": "35cf4e7051821a541e82a77cfe3f149beb1f4063a564015982eab5f309858b74"
  },
  "kernelspec": {
   "display_name": "Python 3.8.2 64-bit",
   "language": "python",
   "name": "python3"
  },
  "language_info": {
   "codemirror_mode": {
    "name": "ipython",
    "version": 3
   },
   "file_extension": ".py",
   "mimetype": "text/x-python",
   "name": "python",
   "nbconvert_exporter": "python",
   "pygments_lexer": "ipython3",
   "version": "3.8.2"
  }
 },
 "nbformat": 4,
 "nbformat_minor": 2
}
